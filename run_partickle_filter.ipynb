{
 "cells": [
  {
   "cell_type": "code",
   "execution_count": null,
   "id": "48a699d3",
   "metadata": {},
   "outputs": [],
   "source": [
    "%reload_ext autoreload\n",
    "%autoreload 2\n",
    "%matplotlib inline\n",
    "from utils import *\n",
    "import numpy as np\n",
    "import matplotlib.pyplot as plt\n",
    "from scipy.stats import uniform\n",
    "from observision_models import NormalObservation"
   ]
  },
  {
   "cell_type": "markdown",
   "id": "29495853",
   "metadata": {},
   "source": [
    "# Simulate ball throwing and generate Observations"
   ]
  },
  {
   "cell_type": "code",
   "execution_count": null,
   "id": "aeef5fbb",
   "metadata": {},
   "outputs": [],
   "source": [
    "from ball_throwing_simulator import BallThrowingSimulator"
   ]
  },
  {
   "cell_type": "code",
   "execution_count": null,
   "id": "6c081402",
   "metadata": {},
   "outputs": [],
   "source": [
    "ball_num = 1\n",
    "# init_state = np.array([[0, 0], [50,30], [100,80], [100,80]])  # Initial state: [x, y, vx, vy]\n",
    "simulator = BallThrowingSimulator(delta_t=0.5, ball_num=ball_num, observation_variance=[10, 10])\n",
    "# Simulate the motion and observations\n",
    "states, observations = simulator.simulate(time=30)\n",
    "print(states.shape, observations.shape)\n",
    "# Show the simulated states and observations\n",
    "fig, ax = plt.subplots(figsize=(12, 12))\n",
    "plot_observations(ax, states, observations)"
   ]
  },
  {
   "cell_type": "markdown",
   "id": "54c7eda1",
   "metadata": {},
   "source": [
    "# Initilaize\n",
    "## State\n",
    "$$[X, Y, V_x, V_y]^T$$"
   ]
  },
  {
   "cell_type": "markdown",
   "id": "b68c9835",
   "metadata": {},
   "source": [
    "## Uniform Random Particle Sets\n",
    "$$X, Y \\in [0, 3000]$$\n",
    "$$V_x, V_y \\in [0, 200]$$"
   ]
  },
  {
   "cell_type": "code",
   "execution_count": null,
   "id": "32496559",
   "metadata": {},
   "outputs": [],
   "source": [
    "from partickle_filter import ParticleFilter\n",
    "# initialize 1000 random particles\n",
    "pf = ParticleFilter(10000)\n",
    "\n",
    "init_particles, init_weights = pf.snaps[0]\n",
    "\n",
    "# show initial particles\n",
    "fig, ax = plt.subplots(figsize=(12, 12))\n",
    "# ax.set_xlim(0, 3000)\n",
    "# ax.set_ylim(0, 3000)\n",
    "ax.set_title('Initial Particles')\n",
    "ax.set_xlabel('X Position')\n",
    "ax.set_ylabel('Y Position')\n",
    "plot_particles(ax, init_particles, init_weights)\n",
    "plot_observations(ax, states, observations, NormalObservation.R)\n",
    "plt.show()"
   ]
  },
  {
   "cell_type": "code",
   "execution_count": null,
   "id": "e6bd2205",
   "metadata": {},
   "outputs": [],
   "source": [
    "particles, weights = pf.particles, pf.weights\n",
    "print(particles.shape)\n",
    "\n",
    "for i in range(10):\n",
    "    particles, weights = pf.update(particles, weights, observations[i,:])\n",
    "    fig, ax = plt.subplots(figsize=(12, 12))\n",
    "    # ax.set_xlim(0, 3000)\n",
    "    # ax.set_ylim(0, 3000)\n",
    "    ax.set_title('Initial Particles')\n",
    "    ax.set_xlabel('X Position')\n",
    "    ax.set_ylabel('Y Position')\n",
    "    plot_particles(ax, particles, weights)\n",
    "    plot_observations(ax, states, observations)\n",
    "    plt.show()"
   ]
  }
 ],
 "metadata": {
  "kernelspec": {
   "display_name": "acv",
   "language": "python",
   "name": "python3"
  },
  "language_info": {
   "codemirror_mode": {
    "name": "ipython",
    "version": 3
   },
   "file_extension": ".py",
   "mimetype": "text/x-python",
   "name": "python",
   "nbconvert_exporter": "python",
   "pygments_lexer": "ipython3",
   "version": "3.13.2"
  }
 },
 "nbformat": 4,
 "nbformat_minor": 5
}
