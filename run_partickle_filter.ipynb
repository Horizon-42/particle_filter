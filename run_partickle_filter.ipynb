{
 "cells": [
  {
   "cell_type": "code",
   "execution_count": null,
   "id": "48a699d3",
   "metadata": {},
   "outputs": [],
   "source": [
    "%reload_ext autoreload\n",
    "%autoreload 2\n",
    "%matplotlib inline\n",
    "from utils import *\n",
    "import numpy as np\n",
    "import matplotlib.pyplot as plt\n",
    "from matplotlib import colormaps\n",
    "from matplotlib.animation import FuncAnimation\n",
    "from scipy.stats import uniform\n",
    "from observision_models import NormalObservation\n",
    "from IPython.display import HTML\n",
    "from matplotlib.animation import ImageMagickWriter\n",
    "\n",
    "from ball_throwing_simulator import BallThrowingSimulator"
   ]
  },
  {
   "cell_type": "markdown",
   "id": "29495853",
   "metadata": {},
   "source": [
    "# Simulate ball throwing and generate Observations"
   ]
  },
  {
   "cell_type": "code",
   "execution_count": null,
   "id": "6c081402",
   "metadata": {},
   "outputs": [],
   "source": [
    "ball_num = 1\n",
    "init_state = np.array([[0], [50], [300], [300]])  # Initial state: [x, y, vx, vy]\n",
    "simulator = BallThrowingSimulator(delta_t=0.5, init_state=init_state, ball_num=ball_num, observation_variance=[10, 10])\n",
    "# Simulate the motion and observations\n",
    "states, observations = simulator.simulate(time=30)\n",
    "print(states.shape, observations.shape)\n",
    "# Show the simulated states and observations\n",
    "fig, ax = plt.subplots(figsize=(12, 12))\n",
    "plot_observations(ax, states, observations)"
   ]
  },
  {
   "cell_type": "markdown",
   "id": "54c7eda1",
   "metadata": {},
   "source": [
    "# Initilaize\n",
    "## State\n",
    "$$[X, Y, V_x, V_y]^T$$"
   ]
  },
  {
   "cell_type": "markdown",
   "id": "b68c9835",
   "metadata": {},
   "source": [
    "## Uniform Random Particle Sets\n",
    "$$X, Y \\in [0, 3000]$$\n",
    "$$V_x, V_y \\in [0, 200]$$"
   ]
  },
  {
   "cell_type": "code",
   "execution_count": null,
   "id": "32496559",
   "metadata": {},
   "outputs": [],
   "source": [
    "from partickle_filter import ParticleFilter\n",
    "pf = ParticleFilter(5000)\n",
    "\n",
    "init_particles, init_weights = pf.init_particles, pf.init_weights\n",
    "\n",
    "# show initial particles\n",
    "fig, ax = plt.subplots(figsize=(12, 12))\n",
    "# ax.set_xlim(0, 3000)\n",
    "# ax.set_ylim(0, 3000)\n",
    "ax.set_title('Initial Particles')\n",
    "ax.set_xlabel('X Position')\n",
    "ax.set_ylabel('Y Position')\n",
    "plot_particles(ax, init_particles, init_weights)\n",
    "plot_observations(ax, states, observations, NormalObservation.R)\n",
    "plt.show()"
   ]
  },
  {
   "cell_type": "code",
   "execution_count": null,
   "id": "8fa2de08",
   "metadata": {},
   "outputs": [],
   "source": [
    "import matplotlib.pyplot as plt\n",
    "import numpy as np\n",
    "import os\n",
    "from PIL import Image\n",
    "from IPython.display import clear_output, display\n",
    "import time\n",
    "\n",
    "# 假设已有变量: states, observations, pf（含 pf.snaps、pf.update）\n",
    "\n",
    "# 输出目录\n",
    "os.makedirs(\"outputs\", exist_ok=True)\n",
    "\n",
    "# 初始化画布\n",
    "fig, ax = plt.subplots(figsize=(10, 10))\n",
    "ax.set_title(\"Particle Filter Animation\")\n",
    "all_x = np.concatenate((states[:, 0], observations[:, 0]))\n",
    "all_y = np.concatenate((states[:, 1], observations[:, 1]))\n",
    "x_min, x_max = np.min(all_x) - 1000, np.max(all_x) + 200\n",
    "y_min, y_max = -np.max(all_y), 1.5 * np.max(all_y)\n",
    "ax.set_xlim(x_min, x_max)\n",
    "ax.set_ylim(y_min, y_max)\n",
    "ax.set_aspect('equal')\n",
    "\n",
    "\n",
    "# 初始化粒子状态\n",
    "particles, weights = pf.init_particles, pf.init_weights\n",
    "\n",
    "# 初始化绘图对象\n",
    "# particles_scatter = ax.scatter(particles[:,0], particles[:, 1], c='blue', alpha=0.7)\n",
    "particles_quiver = ax.quiver(particles[:,0], particles[:, 1], \n",
    "                             particles[:,2], particles[:, 3], \n",
    "                             color = plt.cm.viridis(weights),\n",
    "                             angles='xy', scale_units='xy', scale=1)\n",
    "observations_plot, = ax.plot([], [], 'rx', label='Observations')\n",
    "true_state_plot, = ax.plot(states[0, 0], states[0, 1], 'g--', label='True State')\n",
    "\n",
    "plt.legend()\n",
    "\n",
    "plt.savefig(f\"outputs/frame_000.png\", dpi=150)\n",
    "display(fig)\n",
    "# 主循环：逐帧绘图并保存为 PNG\n",
    "for frame in range(1, states.shape[0]):\n",
    "    particles, weights = pf.update(particles, weights, observations[frame-1])\n",
    "\n",
    "    # particles_scatter.set_offsets(particles[:, :2])\n",
    "    # particles_scatter.set_color(plt.cm.viridis(weights))\n",
    "\n",
    "    particles_quiver.set_offsets(particles[:, :2])\n",
    "    particles_quiver.set_UVC(particles[:, 2], particles[:, 3])\n",
    "    particles_quiver.set_color(plt.cm.viridis(weights))\n",
    "\n",
    "    observations_plot.set_data(observations[:frame, 0], observations[:frame, 1])\n",
    "    true_state_plot.set_data(states[:frame, 0], states[:frame, 1])\n",
    "\n",
    "    clear_output(wait=True)\n",
    "    display(fig)\n",
    "    # 保存帧\n",
    "    plt.savefig(f\"outputs/frame_{frame:03d}.png\", dpi=150)\n",
    "\n",
    "# plt.close(fig)  # 完成后关闭图形\n",
    "plt.ioff()\n",
    "plt.close(fig)\n",
    "\n",
    "# save to gif\n",
    "gif_frames = [Image.open(f\"outputs/frame_{frame:03d}.png\") for frame in range(states.shape[0])]\n",
    "gif_path = \"outputs/particle_filter_animation.gif\"\n",
    "gif_frames[0].save(gif_path, save_all=True, append_images=gif_frames[1:], duration=300, loop=0)\n"
   ]
  }
 ],
 "metadata": {
  "kernelspec": {
   "display_name": "acv",
   "language": "python",
   "name": "python3"
  },
  "language_info": {
   "codemirror_mode": {
    "name": "ipython",
    "version": 3
   },
   "file_extension": ".py",
   "mimetype": "text/x-python",
   "name": "python",
   "nbconvert_exporter": "python",
   "pygments_lexer": "ipython3",
   "version": "3.13.2"
  }
 },
 "nbformat": 4,
 "nbformat_minor": 5
}
